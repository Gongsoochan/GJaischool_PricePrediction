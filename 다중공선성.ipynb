{
 "cells": [
  {
   "cell_type": "code",
   "execution_count": 2,
   "id": "f2089322",
   "metadata": {},
   "outputs": [],
   "source": [
    "from sklearn.preprocessing import PolynomialFeatures\n",
    "from sklearn.linear_model import LinearRegression\n",
    "from sklearn.preprocessing import MinMaxScaler\n",
    "from sklearn.model_selection import train_test_split\n",
    "from sklearn.linear_model import Lasso, Ridge, SGDRegressor\n",
    "from sklearn.model_selection import cross_val_score\n",
    "from sklearn.tree import DecisionTreeRegressor\n",
    "from sklearn.neighbors import KNeighborsRegressor\n",
    "import pandas as pd\n",
    "import numpy as np\n",
    "\n",
    "df = pd.read_csv('토마토_전지역.csv', encoding = 'cp949')\n",
    "df.drop(['True'], axis = 1, inplace = True)"
   ]
  },
  {
   "cell_type": "code",
   "execution_count": 3,
   "id": "58e77606",
   "metadata": {},
   "outputs": [],
   "source": [
    "df = df[df['지역'] == '서울']"
   ]
  },
  {
   "cell_type": "code",
   "execution_count": 4,
   "id": "4f25cf9b",
   "metadata": {},
   "outputs": [],
   "source": [
    "y = df['가격']\n",
    "x = df[['최고기온(°C)', '연', '월', '일', '연속강수', '생산자물가', '가조시간(hr)']]"
   ]
  },
  {
   "cell_type": "code",
   "execution_count": 84,
   "id": "627b8ed6",
   "metadata": {},
   "outputs": [
    {
     "name": "stderr",
     "output_type": "stream",
     "text": [
      "C:\\Users\\gjaischool1\\AppData\\Local\\Temp\\ipykernel_13744\\4221932800.py:1: FutureWarning: The default value of numeric_only in DataFrame.corr is deprecated. In a future version, it will default to False. Select only valid columns or specify the value of numeric_only to silence this warning.\n",
      "  df.corr()['생산자물가']\n"
     ]
    },
    {
     "data": {
      "text/plain": [
       "평균기온(°C)         -0.340508\n",
       "최저기온(°C)         -0.342849\n",
       "최고기온(°C)         -0.333537\n",
       "강수 계속시간(hr)      -0.074923\n",
       "10분 최다 강수량(mm)   -0.119778\n",
       "1시간 최다강수량(mm)    -0.118022\n",
       "일강수량(mm)         -0.073073\n",
       "최대 순간 풍속(m/s)    -0.015327\n",
       "최대 풍속(m/s)        0.010191\n",
       "평균 풍속(m/s)        0.083755\n",
       "평균 이슬점온도(°C)     -0.305224\n",
       "최소 상대습도(%)       -0.085200\n",
       "평균 상대습도(%)       -0.080567\n",
       "평균 증기압(hPa)      -0.342931\n",
       "평균 현지기압(hPa)      0.396409\n",
       "최고 해면기압(hPa)      0.414358\n",
       "최저 해면기압(hPa)      0.373499\n",
       "평균 해면기압(hPa)      0.397016\n",
       "가조시간(hr)         -0.503746\n",
       "합계 일조시간(hr)      -0.019289\n",
       "일 최심신적설(cm)       0.014264\n",
       "일 최심적설(cm)        0.016358\n",
       "합계 3시간 신적설(cm)    0.015169\n",
       "평균 지면온도(°C)      -0.383380\n",
       "최저 초상온도(°C)      -0.356313\n",
       "9-9강수(mm)        -0.075717\n",
       "연                 0.313080\n",
       "월                 0.061760\n",
       "일                -0.000800\n",
       "연속강수             -0.125644\n",
       "가격                0.821926\n",
       "생산자물가             1.000000\n",
       "소비자물가             0.897977\n",
       "Name: 생산자물가, dtype: float64"
      ]
     },
     "execution_count": 84,
     "metadata": {},
     "output_type": "execute_result"
    }
   ],
   "source": [
    "df.corr()['생산자물가']\n",
    "\n"
   ]
  },
  {
   "cell_type": "code",
   "execution_count": 51,
   "id": "b59a778e",
   "metadata": {},
   "outputs": [
    {
     "data": {
      "text/html": [
       "<div>\n",
       "<style scoped>\n",
       "    .dataframe tbody tr th:only-of-type {\n",
       "        vertical-align: middle;\n",
       "    }\n",
       "\n",
       "    .dataframe tbody tr th {\n",
       "        vertical-align: top;\n",
       "    }\n",
       "\n",
       "    .dataframe thead th {\n",
       "        text-align: right;\n",
       "    }\n",
       "</style>\n",
       "<table border=\"1\" class=\"dataframe\">\n",
       "  <thead>\n",
       "    <tr style=\"text-align: right;\">\n",
       "      <th></th>\n",
       "      <th>Facter</th>\n",
       "      <th>features</th>\n",
       "    </tr>\n",
       "  </thead>\n",
       "  <tbody>\n",
       "    <tr>\n",
       "      <th>0</th>\n",
       "      <td>1.264544</td>\n",
       "      <td>연속강수</td>\n",
       "    </tr>\n",
       "    <tr>\n",
       "      <th>1</th>\n",
       "      <td>4.192968</td>\n",
       "      <td>일</td>\n",
       "    </tr>\n",
       "    <tr>\n",
       "      <th>2</th>\n",
       "      <td>4.741453</td>\n",
       "      <td>월</td>\n",
       "    </tr>\n",
       "    <tr>\n",
       "      <th>3</th>\n",
       "      <td>4.770624</td>\n",
       "      <td>최고기온(°C)</td>\n",
       "    </tr>\n",
       "    <tr>\n",
       "      <th>4</th>\n",
       "      <td>17.742292</td>\n",
       "      <td>생산자물가</td>\n",
       "    </tr>\n",
       "    <tr>\n",
       "      <th>5</th>\n",
       "      <td>29.339225</td>\n",
       "      <td>연</td>\n",
       "    </tr>\n",
       "  </tbody>\n",
       "</table>\n",
       "</div>"
      ],
      "text/plain": [
       "      Facter  features\n",
       "0   1.264544      연속강수\n",
       "1   4.192968         일\n",
       "2   4.741453         월\n",
       "3   4.770624  최고기온(°C)\n",
       "4  17.742292     생산자물가\n",
       "5  29.339225         연"
      ]
     },
     "execution_count": 51,
     "metadata": {},
     "output_type": "execute_result"
    }
   ],
   "source": [
    "#______________________________________________________________________________________________________________________________\n",
    "from statsmodels.stats.outliers_influence import variance_inflation_factor\n",
    "\n",
    "def convert_from_scientific(x):\n",
    "    return '{:.6f}'.format(x)\n",
    "\n",
    "# apply 함수를 사용하여 Facter 컬럼의 값을 변환\n",
    "\n",
    "d_df = df[['연', '월', '일', '가조시간(hr)', '최고기온(°C)', '생산자물가']]\n",
    "# d_df\n",
    "vif = pd.DataFrame()\n",
    "vif['Facter'] = [variance_inflation_factor(x.values, i) for i in range(x.shape[1])]\n",
    "vif['features'] = x.columns\n",
    "vif = vif.sort_values('Facter').reset_index(drop = True)\n",
    "vif\n",
    "\n",
    "vif['Facter'] = vif['Facter'].apply(convert_from_scientific)\n",
    "vif"
   ]
  },
  {
   "cell_type": "code",
   "execution_count": 52,
   "id": "fd3d89c3",
   "metadata": {},
   "outputs": [
    {
     "name": "stdout",
     "output_type": "stream",
     "text": [
      "<class 'pandas.core.frame.DataFrame'>\n",
      "Int64Index: 2721 entries, 31 to 43770\n",
      "Data columns (total 6 columns):\n",
      " #   Column    Non-Null Count  Dtype  \n",
      "---  ------    --------------  -----  \n",
      " 0   최고기온(°C)  2721 non-null   float64\n",
      " 1   연         2721 non-null   int64  \n",
      " 2   월         2721 non-null   int64  \n",
      " 3   일         2721 non-null   int64  \n",
      " 4   연속강수      2721 non-null   int64  \n",
      " 5   생산자물가     2721 non-null   float64\n",
      "dtypes: float64(2), int64(4)\n",
      "memory usage: 148.8 KB\n"
     ]
    }
   ],
   "source": [
    "x.info()"
   ]
  },
  {
   "cell_type": "code",
   "execution_count": null,
   "id": "b3828033",
   "metadata": {},
   "outputs": [],
   "source": []
  },
  {
   "cell_type": "code",
   "execution_count": 6,
   "id": "2aab12a8",
   "metadata": {},
   "outputs": [
    {
     "name": "stdout",
     "output_type": "stream",
     "text": [
      "-- Epoch 1\n",
      "Norm: 2365.64, NNZs: 888030, Bias: 1301.866328, T: 2176, Avg. loss: 2832044.242623\n",
      "Total training time: 91.87 seconds.\n",
      "-- Epoch 2\n",
      "Norm: 2281.97, NNZs: 888030, Bias: 1415.327775, T: 4352, Avg. loss: 360569.386993\n",
      "Total training time: 173.81 seconds.\n",
      "-- Epoch 3\n",
      "Norm: 2344.16, NNZs: 888030, Bias: 1505.214049, T: 6528, Avg. loss: 225978.988101\n",
      "Total training time: 257.56 seconds.\n",
      "-- Epoch 4\n",
      "Norm: 2401.45, NNZs: 888030, Bias: 1565.985457, T: 8704, Avg. loss: 193244.866407\n",
      "Total training time: 334.78 seconds.\n",
      "-- Epoch 5\n",
      "Norm: 2449.25, NNZs: 888030, Bias: 1609.665001, T: 10880, Avg. loss: 177860.648949\n",
      "Total training time: 413.36 seconds.\n",
      "-- Epoch 6\n",
      "Norm: 2489.74, NNZs: 888030, Bias: 1642.778797, T: 13056, Avg. loss: 168737.428373\n",
      "Total training time: 496.68 seconds.\n",
      "-- Epoch 7\n",
      "Norm: 2524.93, NNZs: 888030, Bias: 1668.917794, T: 15232, Avg. loss: 162550.909753\n",
      "Total training time: 580.63 seconds.\n",
      "-- Epoch 8\n",
      "Norm: 2556.22, NNZs: 888030, Bias: 1690.201279, T: 17408, Avg. loss: 157963.704902\n",
      "Total training time: 665.44 seconds.\n",
      "-- Epoch 9\n",
      "Norm: 2584.59, NNZs: 888030, Bias: 1707.960447, T: 19584, Avg. loss: 154343.128836\n",
      "Total training time: 761.08 seconds.\n",
      "-- Epoch 10\n",
      "Norm: 2610.71, NNZs: 888030, Bias: 1723.074706, T: 21760, Avg. loss: 151355.167988\n",
      "Total training time: 861.41 seconds.\n",
      "-- Epoch 11\n",
      "Norm: 2635.05, NNZs: 888030, Bias: 1736.149094, T: 23936, Avg. loss: 148808.228456\n",
      "Total training time: 961.74 seconds.\n",
      "-- Epoch 12\n",
      "Norm: 2657.96, NNZs: 888030, Bias: 1747.613929, T: 26112, Avg. loss: 146584.818102\n",
      "Total training time: 1071.87 seconds.\n",
      "-- Epoch 13\n",
      "Norm: 2679.69, NNZs: 888030, Bias: 1757.783853, T: 28288, Avg. loss: 144608.759576\n",
      "Total training time: 1183.94 seconds.\n",
      "-- Epoch 14\n",
      "Norm: 2700.44, NNZs: 888030, Bias: 1766.894383, T: 30464, Avg. loss: 142828.267195\n",
      "Total training time: 1301.68 seconds.\n",
      "-- Epoch 15\n",
      "Norm: 2720.34, NNZs: 888030, Bias: 1775.125409, T: 32640, Avg. loss: 141206.676492\n",
      "Total training time: 1417.27 seconds.\n",
      "-- Epoch 16\n",
      "Norm: 2739.51, NNZs: 888030, Bias: 1782.616785, T: 34816, Avg. loss: 139717.104323\n",
      "Total training time: 1540.26 seconds.\n",
      "-- Epoch 17\n",
      "Norm: 2758.04, NNZs: 888030, Bias: 1789.478945, T: 36992, Avg. loss: 138339.236453\n",
      "Total training time: 1661.24 seconds.\n",
      "-- Epoch 18\n",
      "Norm: 2776.01, NNZs: 888030, Bias: 1795.800321, T: 39168, Avg. loss: 137057.319572\n",
      "Total training time: 1769.99 seconds.\n",
      "-- Epoch 19\n",
      "Norm: 2793.47, NNZs: 888030, Bias: 1801.652616, T: 41344, Avg. loss: 135858.862449\n",
      "Total training time: 1896.67 seconds.\n",
      "-- Epoch 20\n"
     ]
    },
    {
     "ename": "KeyboardInterrupt",
     "evalue": "",
     "output_type": "error",
     "traceback": [
      "\u001b[1;31m---------------------------------------------------------------------------\u001b[0m",
      "\u001b[1;31mKeyboardInterrupt\u001b[0m                         Traceback (most recent call last)",
      "\u001b[1;32m~\\AppData\\Local\\Temp\\ipykernel_1952\\933760656.py\u001b[0m in \u001b[0;36m<module>\u001b[1;34m\u001b[0m\n\u001b[0;32m     29\u001b[0m \u001b[1;31m## 2번\u001b[0m\u001b[1;33m\u001b[0m\u001b[1;33m\u001b[0m\u001b[0m\n\u001b[0;32m     30\u001b[0m \u001b[0mm\u001b[0m \u001b[1;33m=\u001b[0m \u001b[0mSGDRegressor\u001b[0m\u001b[1;33m(\u001b[0m\u001b[0mmax_iter\u001b[0m\u001b[1;33m=\u001b[0m\u001b[1;36m200\u001b[0m\u001b[1;33m,\u001b[0m \u001b[0mshuffle\u001b[0m\u001b[1;33m=\u001b[0m\u001b[1;32mFalse\u001b[0m\u001b[1;33m,\u001b[0m \u001b[0mverbose\u001b[0m\u001b[1;33m=\u001b[0m\u001b[1;36m1\u001b[0m\u001b[1;33m)\u001b[0m\u001b[1;31m#, eta0=1e-4)\u001b[0m\u001b[1;33m\u001b[0m\u001b[1;33m\u001b[0m\u001b[0m\n\u001b[1;32m---> 31\u001b[1;33m \u001b[0mm\u001b[0m\u001b[1;33m.\u001b[0m\u001b[0mfit\u001b[0m\u001b[1;33m(\u001b[0m\u001b[0mx_q\u001b[0m\u001b[1;33m,\u001b[0m \u001b[0mtr_y\u001b[0m\u001b[1;33m)\u001b[0m\u001b[1;33m\u001b[0m\u001b[1;33m\u001b[0m\u001b[0m\n\u001b[0m\u001b[0;32m     32\u001b[0m \u001b[0mprint\u001b[0m\u001b[1;33m(\u001b[0m\u001b[0mcross_val_score\u001b[0m\u001b[1;33m(\u001b[0m\u001b[0mm\u001b[0m\u001b[1;33m,\u001b[0m \u001b[0mx_q\u001b[0m\u001b[1;33m,\u001b[0m \u001b[0mtr_y\u001b[0m\u001b[1;33m)\u001b[0m\u001b[1;33m.\u001b[0m\u001b[0mmean\u001b[0m\u001b[1;33m(\u001b[0m\u001b[1;33m)\u001b[0m\u001b[1;33m)\u001b[0m\u001b[1;33m\u001b[0m\u001b[1;33m\u001b[0m\u001b[0m\n\u001b[0;32m     33\u001b[0m \u001b[0mm\u001b[0m\u001b[1;33m.\u001b[0m\u001b[0mscore\u001b[0m\u001b[1;33m(\u001b[0m\u001b[0mx_q\u001b[0m\u001b[1;33m,\u001b[0m \u001b[0mtr_y\u001b[0m\u001b[1;33m)\u001b[0m\u001b[1;33m,\u001b[0m \u001b[0mm\u001b[0m\u001b[1;33m.\u001b[0m\u001b[0mscore\u001b[0m\u001b[1;33m(\u001b[0m\u001b[0mx_tt_q\u001b[0m\u001b[1;33m,\u001b[0m \u001b[0mtt_y\u001b[0m\u001b[1;33m)\u001b[0m\u001b[1;33m\u001b[0m\u001b[1;33m\u001b[0m\u001b[0m\n",
      "\u001b[1;32m~\\anaconda3\\lib\\site-packages\\sklearn\\linear_model\\_stochastic_gradient.py\u001b[0m in \u001b[0;36mfit\u001b[1;34m(self, X, y, coef_init, intercept_init, sample_weight)\u001b[0m\n\u001b[0;32m   1535\u001b[0m             \u001b[0mFitted\u001b[0m\u001b[0;31m \u001b[0m\u001b[0;31m`\u001b[0m\u001b[0mSGDRegressor\u001b[0m\u001b[0;31m`\u001b[0m \u001b[0mestimator\u001b[0m\u001b[1;33m.\u001b[0m\u001b[1;33m\u001b[0m\u001b[1;33m\u001b[0m\u001b[0m\n\u001b[0;32m   1536\u001b[0m         \"\"\"\n\u001b[1;32m-> 1537\u001b[1;33m         return self._fit(\n\u001b[0m\u001b[0;32m   1538\u001b[0m             \u001b[0mX\u001b[0m\u001b[1;33m,\u001b[0m\u001b[1;33m\u001b[0m\u001b[1;33m\u001b[0m\u001b[0m\n\u001b[0;32m   1539\u001b[0m             \u001b[0my\u001b[0m\u001b[1;33m,\u001b[0m\u001b[1;33m\u001b[0m\u001b[1;33m\u001b[0m\u001b[0m\n",
      "\u001b[1;32m~\\anaconda3\\lib\\site-packages\\sklearn\\linear_model\\_stochastic_gradient.py\u001b[0m in \u001b[0;36m_fit\u001b[1;34m(self, X, y, alpha, C, loss, learning_rate, coef_init, intercept_init, sample_weight)\u001b[0m\n\u001b[0;32m   1483\u001b[0m         \u001b[0mself\u001b[0m\u001b[1;33m.\u001b[0m\u001b[0mt_\u001b[0m \u001b[1;33m=\u001b[0m \u001b[1;36m1.0\u001b[0m\u001b[1;33m\u001b[0m\u001b[1;33m\u001b[0m\u001b[0m\n\u001b[0;32m   1484\u001b[0m \u001b[1;33m\u001b[0m\u001b[0m\n\u001b[1;32m-> 1485\u001b[1;33m         self._partial_fit(\n\u001b[0m\u001b[0;32m   1486\u001b[0m             \u001b[0mX\u001b[0m\u001b[1;33m,\u001b[0m\u001b[1;33m\u001b[0m\u001b[1;33m\u001b[0m\u001b[0m\n\u001b[0;32m   1487\u001b[0m             \u001b[0my\u001b[0m\u001b[1;33m,\u001b[0m\u001b[1;33m\u001b[0m\u001b[1;33m\u001b[0m\u001b[0m\n",
      "\u001b[1;32m~\\anaconda3\\lib\\site-packages\\sklearn\\linear_model\\_stochastic_gradient.py\u001b[0m in \u001b[0;36m_partial_fit\u001b[1;34m(self, X, y, alpha, C, loss, learning_rate, max_iter, sample_weight, coef_init, intercept_init)\u001b[0m\n\u001b[0;32m   1413\u001b[0m             \u001b[0mself\u001b[0m\u001b[1;33m.\u001b[0m\u001b[0m_average_intercept\u001b[0m \u001b[1;33m=\u001b[0m \u001b[0mnp\u001b[0m\u001b[1;33m.\u001b[0m\u001b[0mzeros\u001b[0m\u001b[1;33m(\u001b[0m\u001b[1;36m1\u001b[0m\u001b[1;33m,\u001b[0m \u001b[0mdtype\u001b[0m\u001b[1;33m=\u001b[0m\u001b[0mnp\u001b[0m\u001b[1;33m.\u001b[0m\u001b[0mfloat64\u001b[0m\u001b[1;33m,\u001b[0m \u001b[0morder\u001b[0m\u001b[1;33m=\u001b[0m\u001b[1;34m\"C\"\u001b[0m\u001b[1;33m)\u001b[0m\u001b[1;33m\u001b[0m\u001b[1;33m\u001b[0m\u001b[0m\n\u001b[0;32m   1414\u001b[0m \u001b[1;33m\u001b[0m\u001b[0m\n\u001b[1;32m-> 1415\u001b[1;33m         self._fit_regressor(\n\u001b[0m\u001b[0;32m   1416\u001b[0m             \u001b[0mX\u001b[0m\u001b[1;33m,\u001b[0m \u001b[0my\u001b[0m\u001b[1;33m,\u001b[0m \u001b[0malpha\u001b[0m\u001b[1;33m,\u001b[0m \u001b[0mC\u001b[0m\u001b[1;33m,\u001b[0m \u001b[0mloss\u001b[0m\u001b[1;33m,\u001b[0m \u001b[0mlearning_rate\u001b[0m\u001b[1;33m,\u001b[0m \u001b[0msample_weight\u001b[0m\u001b[1;33m,\u001b[0m \u001b[0mmax_iter\u001b[0m\u001b[1;33m\u001b[0m\u001b[1;33m\u001b[0m\u001b[0m\n\u001b[0;32m   1417\u001b[0m         )\n",
      "\u001b[1;32m~\\anaconda3\\lib\\site-packages\\sklearn\\linear_model\\_stochastic_gradient.py\u001b[0m in \u001b[0;36m_fit_regressor\u001b[1;34m(self, X, y, alpha, C, loss, learning_rate, sample_weight, max_iter)\u001b[0m\n\u001b[0;32m   1616\u001b[0m             \u001b[0maverage_intercept\u001b[0m \u001b[1;33m=\u001b[0m \u001b[1;33m[\u001b[0m\u001b[1;36m0\u001b[0m\u001b[1;33m]\u001b[0m  \u001b[1;31m# Not used\u001b[0m\u001b[1;33m\u001b[0m\u001b[1;33m\u001b[0m\u001b[0m\n\u001b[0;32m   1617\u001b[0m \u001b[1;33m\u001b[0m\u001b[0m\n\u001b[1;32m-> 1618\u001b[1;33m         coef, intercept, average_coef, average_intercept, self.n_iter_ = _plain_sgd(\n\u001b[0m\u001b[0;32m   1619\u001b[0m             \u001b[0mcoef\u001b[0m\u001b[1;33m,\u001b[0m\u001b[1;33m\u001b[0m\u001b[1;33m\u001b[0m\u001b[0m\n\u001b[0;32m   1620\u001b[0m             \u001b[0mintercept\u001b[0m\u001b[1;33m[\u001b[0m\u001b[1;36m0\u001b[0m\u001b[1;33m]\u001b[0m\u001b[1;33m,\u001b[0m\u001b[1;33m\u001b[0m\u001b[1;33m\u001b[0m\u001b[0m\n",
      "\u001b[1;32msklearn\\linear_model\\_sgd_fast.pyx\u001b[0m in \u001b[0;36msklearn.linear_model._sgd_fast._plain_sgd\u001b[1;34m()\u001b[0m\n",
      "\u001b[1;31mKeyboardInterrupt\u001b[0m: "
     ]
    }
   ],
   "source": [
    "from sklearn.preprocessing import PolynomialFeatures\n",
    "from sklearn.linear_model import LinearRegression\n",
    "from sklearn.preprocessing import MinMaxScaler\n",
    "from sklearn.model_selection import train_test_split\n",
    "from sklearn.linear_model import Lasso, Ridge, SGDRegressor\n",
    "from sklearn.model_selection import cross_val_score\n",
    "from sklearn.tree import DecisionTreeRegressor\n",
    "from sklearn.neighbors import KNeighborsRegressor\n",
    "import pandas as pd\n",
    "import numpy as np\n",
    "\n",
    "tr_x, tt_x, tr_y, tt_y = train_test_split(x, y, random_state = 3, test_size = 0.2)\n",
    "tr_x.shape, tt_x.shape, tr_y.shape, tt_y.shape\n",
    "\n",
    "mms = MinMaxScaler().fit(tr_x)\n",
    "mms_train_x = mms.transform(tr_x)\n",
    "mms_test_x = mms.transform(tt_x)\n",
    "\n",
    "\n",
    "# # 1번\n",
    "q = PolynomialFeatures(degree = 10)\n",
    "x_q = q.fit_transform(mms_train_x)\n",
    "x_tt_q = q.transform(mms_test_x)\n",
    "\n",
    "# m = Ridge()\n",
    "# m.fit(x_q, tr_y)\n",
    "# m.score(x_q, tr_y), m.score(x_tt_q, tt_y)\n",
    "\n",
    "## 2번\n",
    "m = SGDRegressor(max_iter=200, shuffle=False, verbose=1)#, eta0=1e-4)\n",
    "m.fit(x_q, tr_y)\n",
    "print(cross_val_score(m, x_q, tr_y).mean())\n",
    "m.score(x_q, tr_y), m.score(x_tt_q, tt_y)\n",
    "\n",
    "\n",
    "## 3번\n",
    "# m = DecisionTreeRegressor()\n",
    "# m.fit(mms_train_x, tr_y)\n",
    "\n",
    "# print(cross_val_score(m, mms_train_x, tr_y).mean())\n",
    "# m.score(mms_train_x, tr_y), m.score(mms_test_x, tt_y)\n",
    "\n",
    "\n",
    "# # 4번\n",
    "# m = LinearRegression()\n",
    "# m.fit(mms_train_x, tr_y)\n",
    "\n",
    "# print(cross_val_score(m, mms_train_x, tr_y).mean())\n",
    "# m.score(mms_train_x, tr_y), m.score(mms_test_x, tt_y)"
   ]
  },
  {
   "cell_type": "code",
   "execution_count": null,
   "id": "f1f3b8ef",
   "metadata": {},
   "outputs": [],
   "source": []
  },
  {
   "cell_type": "code",
   "execution_count": null,
   "id": "de719508",
   "metadata": {},
   "outputs": [],
   "source": []
  },
  {
   "cell_type": "code",
   "execution_count": null,
   "id": "463089ec",
   "metadata": {},
   "outputs": [],
   "source": []
  }
 ],
 "metadata": {
  "kernelspec": {
   "display_name": "Python 3 (ipykernel)",
   "language": "python",
   "name": "python3"
  },
  "language_info": {
   "codemirror_mode": {
    "name": "ipython",
    "version": 3
   },
   "file_extension": ".py",
   "mimetype": "text/x-python",
   "name": "python",
   "nbconvert_exporter": "python",
   "pygments_lexer": "ipython3",
   "version": "3.9.13"
  }
 },
 "nbformat": 4,
 "nbformat_minor": 5
}
